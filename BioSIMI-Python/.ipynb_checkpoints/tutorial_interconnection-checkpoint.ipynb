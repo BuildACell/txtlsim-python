{
 "cells": [
  {
   "cell_type": "markdown",
   "metadata": {},
   "source": [
    "## Introduction\n",
    "\n",
    "This tutorial is a step by step guide to model various interactions between multiple biomolecular models. Broadly, there are three major kinds of interaction and interconnections between different models that this toolbox helps in modeling. The toolbox works with models written in Systems Biology Markup Language (SBML), effectively taking multiple SBML models as input models and giving a new model written in SBML which models the interaction as desired by the user between the input models. \n",
    "\n",
    "### Interaction Modeling \n",
    "There are different kinds of interactions that commonly occur which can be modeled using this toolbox:-\n",
    "\n",
    "1. **Shared resources** -  A user defined list of species for a System which all the Subsystems that are placed inside the System share among them as common resources. So, the multiple Subsystems with SBML models in a System will share these species, rather than having different species for each (as would be the case if they were isolated or in different Systems). \n",
    "\n",
    "2. **Combine subsystems** - A list of Subsystems may be combined together as desired by the user. A combination of multiple Subsystems gives a new Subsystem with all components of the different input Subsystems merged together. Also, if desired, all species with the same name that occur across different subsystems may be combined in the combined model. When calling the member function, the argument for `combineNames` is set as `True` if it is desired to combine all species which have the same `name` attribute. A `False` for the argument would keep all the Species separate even if they have the same name (however, if they are in the same System, the shared species (as described above in 1) will still be combined). In this case, all components of the Subsystems will be merged together. The `combineNames` argument is optional and the default value is set as `True`. There are two modes in which Subsystems may be combined - \n",
    "\n",
    "    1. **Combine by volume** - When combining multiple Subsystems together experimentally by mixing different volumes of each together, this method may be used. The System model (i.e. the combined model of all Subsystems given) has a compartment volume equal to the sum of volumes of the Subsystems' compartments. The initial amount of all Species that have the same `name` and are being combined together (i.e. the `combineNames` argument is set as `True`) is calculated as follows: $$[A_{total}] = \\frac{\\sum_{i=1}^{N}[A_i] \\times V_i}{\\sum_{i=1}^{N} V_i}$$ where N is the total number of Subsystems, A is any species which is present in i = 1,2,..,N Subsystems with V denoting the corresponding volumes. \n",
    "    \n",
    "    The default `self.combineSubsystems(ListOfSubsystems, combineNames = 'True', mode = 'volume')` call performs combine by volume. \n",
    "    2. **Combine virtually** - In this mode, the System model (i.e. the combined model of all Subsystems given) has a compartment volume equal to the compartment volume of the first Subsystem in the list of Subsystems given in the argument of the function call. Similarly, a species which is combined when `combineNames` is set as `True`, takes the initial amount from the first Subsystem in the list of subsystems in which it is listed. \n",
    "    \n",
    "    To combine Subsystems virtually, the modified call is `self.combineSubsystems(ListOfSubsystems, combineNames = 'True', mode = 'virtual')`\n",
    "\n",
    "3. Other interactions - \n",
    "   \n",
    "    1. **Species Identification** - To model interactions where Species A in Subsystem A activates Species B in Subsystem B. Species B is not active in another Subsystem but when these two species are identified and the user specifies that the Species A in Subsystem A will activate Species B in Subsystem B, it is activated and carries on its set of reactions in Subsystem B. Without this interaction modeling, Species B might not be produced at all, and would not carry out the subsequent reactions in Subsystem B. When the interaction is modeled, the Species B bound to Species A goes into all the reactions as one, and the initial amount of the new combined Species is the sum of the amounts of Species A and Species B. This new combined species will be produced by the reactions in Subsystem A and hence would lead to the reactions in Subsystem B to be carried out.\n",
    "    \n",
    "    When in isolation, Subsystem B, may activate Species B using a different Species, for example, an input species which gets into some reactions which produce Species B, hence activating it and causing subsequent reactions. When modeling the interaction described above, we would want to make the input species in Subsystem B to be obsolete, since, it is desired that Species A in Subsystem A should activate Species B. To achieve this, the name of the input species may be given when calling the member function for this interconnection. This argument is an optional argument in this method and is set to `None` by default.  \n",
    "    \n",
    "    To model this interaction, the function call is `self.connectSubsystems(ListOfSubsystems, combineNames, connectionLogic, mode = 'id', inputSpecies = 'None')`.\n",
    "    \n",
    "    2. **Sequestration**  - To model interactions where Species A and Species B bind together to form a complex A:B and hence get sequestered. $$A + B <-> A:B$$ The binding rates are mandatory arguments for this function call (the user needs to specify the identifiers of the new parameters that would be added to get the kinetic law and the user also provides the mathematical formula for the reaction rate and if the reaction is reversible or not). A new reaction is added to the model as shown above.\n",
    "    \n",
    "    To model this interaction, the function call is `self.connectSubsystems(ListOfSubsystems, combineNames, connectionLogic, mode = 'seq', inputSpecies = 'None', rates)`\n",
    "    \n",
    "### Example\n",
    "\n",
    "To demonstrate al of the functionalities described above, we consider three models written in SBML given to us. Refer to `tutorial_modeling.ipynb` for a tutorial on creating new SBML models from scratch using simple commands. \n",
    "\n",
    "For this tutorial, we have two double phosphorylation subsystems and an incoherent feedforward loop subsystem given as SBML files. We intend to have all of the three subsystems inside a synthetic cell and use them as examples to demonstrate the different interconnections and interaction modeling.\n",
    "\n",
    "Import the required libraries from the modules class. "
   ]
  },
  {
   "cell_type": "code",
   "execution_count": 1,
   "metadata": {},
   "outputs": [],
   "source": [
    "from libsbml import *\n",
    "from modules.System import *\n",
    "from modules.Subsystem import *\n",
    "from modules.SimpleModel import *\n",
    "from modules.NewReaction import *"
   ]
  },
  {
   "cell_type": "markdown",
   "metadata": {},
   "source": [
    "Create a system. Example - A cell system which acts as a container for \n",
    "all of the different subsystems. Here, cell is an object of the System class. \n",
    "\n",
    "Specify the list of resources which are shared for this System. Usage - `self.ListOfSharedResources = ['X','Y']`. The ListOfSharedResources is maintained for objects of System class.\n",
    "\n",
    "The three Subsystems are created inside the System using `self.createSubsystem(filename, component_suffix = '')` of the System class, which takes a SBML file as its first argument and an optional string argument which is used to suffix all elements of the Subsystem. For example, in the DP1 call, the string 'DP1' will be suffixed to identifiers of all Species, Reactions, Parameters etc. \n",
    "\n",
    "The System class call of `self.ListOfSubsystem` prints the Subsystem objects in the System."
   ]
  },
  {
   "cell_type": "code",
   "execution_count": 2,
   "metadata": {},
   "outputs": [
    {
     "name": "stdout",
     "output_type": "stream",
     "text": [
      "[<modules.Subsystem.Subsystem object at 0x00000218E97C0F28>, <modules.Subsystem.Subsystem object at 0x00000218E97C0EF0>, <modules.Subsystem.Subsystem object at 0x00000218D6A6AC88>]\n"
     ]
    }
   ],
   "source": [
    "cell = System('cell')\n",
    "cell.ListOfSharedResources = ['inP','X:P']\n",
    "DP1 = cell.createSubsystem('models/DP.xml','DP1')\n",
    "DP2 = cell.createSubsystem('models/DP.xml','DP2')\n",
    "IFFL = cell.createSubsystem('models/IFFL.xml','IFFL')\n",
    "print(cell.ListOfSubsystems)"
   ]
  },
  {
   "cell_type": "markdown",
   "metadata": {},
   "source": [
    "### Shared Cellular Resources\n",
    "Set the list of shared resources to the cell using its member function `self.setSharedResources()`. Modeling of bullet point number 1 is done using this member function. \n",
    "Usage - `self.setSharedResources()`, sets the `self.ListOfSharedResources` to the Subsystems that are currently present inside the System and returns a new Subsystem with the combined model of all the Subsystems together sharing resources.\n",
    "Using `writeSBML`, this shared Subsystem model is written to an SBML file. On running the following code, the file should be generated in the models folder within the current directory. The shared Subsystem model can be simulated using bioscrape. The result is plotted on running the following. You may change the species you wish to plot in the `plotSbmlWithBioscrape(...)` command below by changing the `ListOfSpeciesToPlot` argument."
   ]
  },
  {
   "cell_type": "code",
   "execution_count": 3,
   "metadata": {},
   "outputs": [
    {
     "name": "stderr",
     "output_type": "stream",
     "text": [
      "C:\\Users\\apand\\synBio\\txtlsim-python\\BioSIMI-Python\\modules\\utilityFunctions.py:49: UserWarning: Warning: SBML model contains reversible reaction!\n",
      "Please check rate expressions and ensure they are non-negative before doing stochastic simulations. This warning will always appear if you are using SBML 1 or 2\n",
      "  m = bioscrape.types.read_model_from_sbml(filename)\n",
      "C:\\Users\\apand\\synBio\\txtlsim-python\\BioSIMI-Python\\modules\\SimpleModel.py:333: UserWarning: Multiple species with name X:P:P found. Returning a list\n",
      "  warnings.warn('Multiple species with name ' + name + ' found. Returning a list')\n"
     ]
    },
    {
     "name": "stdout",
     "output_type": "stream",
     "text": [
      "WARNING -- There are multiple species with the name X:P:P in plot function. Suffixed species will be plotted \n"
     ]
    },
    {
     "data": {
      "image/png": "[encoded data removed]",
      "text/plain": [
       "<Figure size 432x288 with 1 Axes>"
      ]
     },
     "metadata": {},
     "output_type": "display_data"
    }
   ],
   "source": [
    "shared_subsystem = cell.setSharedResources()\n",
    "writeSBML(shared_subsystem.getSubsystemDoc(),'models/DP_IFFL_shared.xml')\n",
    "timepoints = np.linspace(0,100,1000)\n",
    "\n",
    "# Usage - plotSbmlWithBioscrape(filename, initialTime, timepoints, \n",
    "# ListOfSpeciesToPlot, xLabel = 'Time', yLabel = 'Concentration (AU)', xAxisSize = 14, yAxisSize = 14)\n",
    "\n",
    "plotSbmlWithBioscrape('models/DP_IFFL_shared.xml',0,timepoints,['inP','X:P:P','out_IFFL'])"
   ]
  },
  {
   "cell_type": "markdown",
   "metadata": {},
   "source": [
    "### Combining multiple SBML models \n",
    "The following code snippet implements the second bullet point in the interconnections modeling described above. The `combineSubsystems` method of the Subsystem class is used.\n",
    "Usage - `self.combineSubsystems(ListOfSubsystems, combineNames = True, mode = 'volume')`\n",
    "\n",
    "The Subsystem object which calls the `combineSubsystems` method is a new subsystem object which would contain the combined model.\n",
    "\n",
    "The second argument is Boolean which is True if all species with same names need to be merged and False otherwise. "
   ]
  },
  {
   "cell_type": "code",
   "execution_count": 4,
   "metadata": {},
   "outputs": [
    {
     "name": "stdout",
     "output_type": "stream",
     "text": [
      "BioSIMI-Python WARNING -- Removing all duplicates of the reaction inP + X <-> inP:X in the combined model. Check the reaction rate to ensure model is consistent.\n",
      "BioSIMI-Python WARNING -- Removing all duplicates of the reaction inP:X --> inP + X:P in the combined model. Check the reaction rate to ensure model is consistent.\n",
      "BioSIMI-Python WARNING -- Removing all duplicates of the reaction E + X:P <-> E:X:P in the combined model. Check the reaction rate to ensure model is consistent.\n",
      "BioSIMI-Python WARNING -- Removing all duplicates of the reaction E:X:P --> E + X in the combined model. Check the reaction rate to ensure model is consistent.\n",
      "BioSIMI-Python WARNING -- Removing all duplicates of the reaction inP + X:P <-> inP:X:P in the combined model. Check the reaction rate to ensure model is consistent.\n",
      "BioSIMI-Python WARNING -- Removing all duplicates of the reaction inP:X:P --> X:P:P + inP in the combined model. Check the reaction rate to ensure model is consistent.\n",
      "BioSIMI-Python WARNING -- Removing all duplicates of the reaction E + X:P:P <-> E:X:P:P in the combined model. Check the reaction rate to ensure model is consistent.\n",
      "BioSIMI-Python WARNING -- Removing all duplicates of the reaction E:X:P:P --> X:P + E in the combined model. Check the reaction rate to ensure model is consistent.\n"
     ]
    },
    {
     "name": "stderr",
     "output_type": "stream",
     "text": [
      "C:\\Users\\apand\\synBio\\txtlsim-python\\BioSIMI-Python\\modules\\utilityFunctions.py:49: UserWarning: Warning: SBML model contains reversible reaction!\n",
      "Please check rate expressions and ensure they are non-negative before doing stochastic simulations. This warning will always appear if you are using SBML 1 or 2\n",
      "  m = bioscrape.types.read_model_from_sbml(filename)\n",
      "C:\\Users\\apand\\synBio\\txtlsim-python\\BioSIMI-Python\\modules\\utilityFunctions.py:49: UserWarning: Warning! Useless parameter k1f_DP2\n",
      "  m = bioscrape.types.read_model_from_sbml(filename)\n",
      "C:\\Users\\apand\\synBio\\txtlsim-python\\BioSIMI-Python\\modules\\utilityFunctions.py:49: UserWarning: Warning! Useless parameter k1r_DP2\n",
      "  m = bioscrape.types.read_model_from_sbml(filename)\n",
      "C:\\Users\\apand\\synBio\\txtlsim-python\\BioSIMI-Python\\modules\\utilityFunctions.py:49: UserWarning: Warning! Useless parameter k2f_DP2\n",
      "  m = bioscrape.types.read_model_from_sbml(filename)\n",
      "C:\\Users\\apand\\synBio\\txtlsim-python\\BioSIMI-Python\\modules\\utilityFunctions.py:49: UserWarning: Warning! Useless parameter k3f_DP2\n",
      "  m = bioscrape.types.read_model_from_sbml(filename)\n",
      "C:\\Users\\apand\\synBio\\txtlsim-python\\BioSIMI-Python\\modules\\utilityFunctions.py:49: UserWarning: Warning! Useless parameter k3r_DP2\n",
      "  m = bioscrape.types.read_model_from_sbml(filename)\n",
      "C:\\Users\\apand\\synBio\\txtlsim-python\\BioSIMI-Python\\modules\\utilityFunctions.py:49: UserWarning: Warning! Useless parameter k4f_DP2\n",
      "  m = bioscrape.types.read_model_from_sbml(filename)\n",
      "C:\\Users\\apand\\synBio\\txtlsim-python\\BioSIMI-Python\\modules\\utilityFunctions.py:49: UserWarning: Warning! Useless parameter k5f_DP2\n",
      "  m = bioscrape.types.read_model_from_sbml(filename)\n",
      "C:\\Users\\apand\\synBio\\txtlsim-python\\BioSIMI-Python\\modules\\utilityFunctions.py:49: UserWarning: Warning! Useless parameter k5r_DP2\n",
      "  m = bioscrape.types.read_model_from_sbml(filename)\n",
      "C:\\Users\\apand\\synBio\\txtlsim-python\\BioSIMI-Python\\modules\\utilityFunctions.py:49: UserWarning: Warning! Useless parameter k6f_DP2\n",
      "  m = bioscrape.types.read_model_from_sbml(filename)\n",
      "C:\\Users\\apand\\synBio\\txtlsim-python\\BioSIMI-Python\\modules\\utilityFunctions.py:49: UserWarning: Warning! Useless parameter k7f_DP2\n",
      "  m = bioscrape.types.read_model_from_sbml(filename)\n",
      "C:\\Users\\apand\\synBio\\txtlsim-python\\BioSIMI-Python\\modules\\utilityFunctions.py:49: UserWarning: Warning! Useless parameter k7r_DP2\n",
      "  m = bioscrape.types.read_model_from_sbml(filename)\n",
      "C:\\Users\\apand\\synBio\\txtlsim-python\\BioSIMI-Python\\modules\\utilityFunctions.py:49: UserWarning: Warning! Useless parameter k8f_DP2\n",
      "  m = bioscrape.types.read_model_from_sbml(filename)\n"
     ]
    },
    {
     "data": {
      "image/png": "[encoded data removed]",
      "text/plain": [
       "<Figure size 432x288 with 1 Axes>"
      ]
     },
     "metadata": {},
     "output_type": "display_data"
    }
   ],
   "source": [
    "combined_subsystem = cell.createNewSubsystem(3,1)\n",
    "combined_subsystem.combineSubsystems([DP1, DP2, IFFL], True)\n",
    "writeSBML(combined_subsystem.getSubsystemDoc(),'models/DP_IFFL_combined.xml')\n",
    "plotSbmlWithBioscrape('models/DP_IFFL_combined.xml',0,timepoints,['inP','X:P:P','out_IFFL'])"
   ]
  },
  {
   "cell_type": "markdown",
   "metadata": {},
   "source": [
    "### Species Identification Interaction Modeling\n",
    "For the interaction described in (3a) above, the user gives a map of the interaction modeling that is desired. This map uses species names. User specifies how the systems interact by defining the following map\n",
    "Usage - `interactionMap[speciesA] = speciesB` is a dictionary specifying the map, there may be multiple such entries. (Note that Species A and Species B are as described above in the example.  \n",
    "\n",
    "To model this in a new Subsystem and get a SBML file for it, call the connectInteraction member function of the Subsystem class with the new connected subsystem object which should contain the connected Subsystem model.\n",
    "Usage - `self.connectSubsystems(ListOfSubsystems, combineAllWithSameNames, interactionMap, inputSpecies)`\n",
    "\n",
    "The resulting Subsystem model in SBML format is stored in the given filename and is simulated using bioscrape. "
   ]
  },
  {
   "cell_type": "code",
   "execution_count": 5,
   "metadata": {},
   "outputs": [
    {
     "ename": "AttributeError",
     "evalue": "'bool' object has no attribute 'keys'",
     "output_type": "error",
     "traceback": [
      "\u001b[1;31m---------------------------------------------------------------------------\u001b[0m",
      "\u001b[1;31mAttributeError\u001b[0m                            Traceback (most recent call last)",
      "\u001b[1;32m<ipython-input-5-82dca9964836>\u001b[0m in \u001b[0;36m<module>\u001b[1;34m()\u001b[0m\n\u001b[0;32m      7\u001b[0m \u001b[1;33m\u001b[0m\u001b[0m\n\u001b[0;32m      8\u001b[0m \u001b[0mconnected_subsystem\u001b[0m \u001b[1;33m=\u001b[0m \u001b[0mcell\u001b[0m\u001b[1;33m.\u001b[0m\u001b[0mcreateNewSubsystem\u001b[0m\u001b[1;33m(\u001b[0m\u001b[1;36m3\u001b[0m\u001b[1;33m,\u001b[0m\u001b[1;36m1\u001b[0m\u001b[1;33m)\u001b[0m\u001b[1;33m\u001b[0m\u001b[0m\n\u001b[1;32m----> 9\u001b[1;33m \u001b[0mconnected_subsystem\u001b[0m\u001b[1;33m.\u001b[0m\u001b[0mconnectSubsystems\u001b[0m\u001b[1;33m(\u001b[0m\u001b[1;33m[\u001b[0m\u001b[0mDP1\u001b[0m\u001b[1;33m,\u001b[0m \u001b[0mDP2\u001b[0m\u001b[1;33m,\u001b[0m \u001b[0mIFFL\u001b[0m\u001b[1;33m]\u001b[0m\u001b[1;33m,\u001b[0m \u001b[1;32mTrue\u001b[0m\u001b[1;33m,\u001b[0m \u001b[0minteractionMap\u001b[0m\u001b[1;33m,\u001b[0m \u001b[0minputSpecies\u001b[0m\u001b[1;33m)\u001b[0m\u001b[1;33m\u001b[0m\u001b[0m\n\u001b[0m\u001b[0;32m     10\u001b[0m \u001b[1;33m\u001b[0m\u001b[0m\n\u001b[0;32m     11\u001b[0m \u001b[1;33m\u001b[0m\u001b[0m\n",
      "\u001b[1;32m~\\synBio\\txtlsim-python\\BioSIMI-Python\\modules\\Subsystem.py\u001b[0m in \u001b[0;36mconnectSubsystems\u001b[1;34m(self, ListOfSubsystems, connectionLogic, mode, combineNames, inputSpecies)\u001b[0m\n\u001b[0;32m    789\u001b[0m             \u001b[1;32melse\u001b[0m\u001b[1;33m:\u001b[0m\u001b[1;33m\u001b[0m\u001b[0m\n\u001b[0;32m    790\u001b[0m                 \u001b[0mcheck\u001b[0m\u001b[1;33m(\u001b[0m\u001b[0mmodel_obj\u001b[0m\u001b[1;33m.\u001b[0m\u001b[0mgetSpeciesByName\u001b[0m\u001b[1;33m(\u001b[0m\u001b[0minputSpecies\u001b[0m\u001b[1;33m)\u001b[0m\u001b[1;33m.\u001b[0m\u001b[0msetInitialAmount\u001b[0m\u001b[1;33m(\u001b[0m\u001b[1;36m0.0\u001b[0m\u001b[1;33m)\u001b[0m\u001b[1;33m,\u001b[0m\u001b[1;34m'setting initial amount to 0 in connectSubsystem'\u001b[0m\u001b[1;33m)\u001b[0m\u001b[1;33m\u001b[0m\u001b[0m\n\u001b[1;32m--> 791\u001b[1;33m         \u001b[1;32mfor\u001b[0m \u001b[0mspecies_name\u001b[0m \u001b[1;32min\u001b[0m \u001b[0mconnectionLogic\u001b[0m\u001b[1;33m.\u001b[0m\u001b[0mkeys\u001b[0m\u001b[1;33m(\u001b[0m\u001b[1;33m)\u001b[0m\u001b[1;33m:\u001b[0m\u001b[1;33m\u001b[0m\u001b[0m\n\u001b[0m\u001b[0;32m    792\u001b[0m             \u001b[1;31m# Get the ids of the concerned species from the\u001b[0m\u001b[1;33m\u001b[0m\u001b[1;33m\u001b[0m\u001b[0m\n\u001b[0;32m    793\u001b[0m             \u001b[1;31m# connection logic given by the user\u001b[0m\u001b[1;33m\u001b[0m\u001b[1;33m\u001b[0m\u001b[0m\n",
      "\u001b[1;31mAttributeError\u001b[0m: 'bool' object has no attribute 'keys'"
     ]
    }
   ],
   "source": [
    "interactionMap = {}\n",
    "interactionMap['X:P:P'] = 'pA_IFFL'\n",
    "# (Optional) The following species was used in IFFL model for when its isolated.\n",
    "# But, now DP output activates the protein expressions so the input to IFFL should be invalid. \n",
    "inputSpecies = 'inp_IFFL' #The species which is invalid in the connected model\n",
    "\n",
    "\n",
    "connected_subsystem = cell.createNewSubsystem(3,1)\n",
    "connected_subsystem.connectSubsystems([DP1, DP2, IFFL], True, interactionMap, inputSpecies)\n",
    "\n",
    "\n",
    "# (Optional) Write the connected document to SBML file\n",
    "writeSBML(connected_subsystem.getSubsystemDoc(),'models/DP_IFFL_connected.xml')\n",
    "\n",
    "plotSbmlWithBioscrape('models/DP_IFFL_connected.xml',0,\n",
    "timepoints,['inP','pA_IFFL','pB_IFFL','out_IFFL'],'Time',\n",
    "'Input and Output Species',14,14)"
   ]
  },
  {
   "cell_type": "markdown",
   "metadata": {},
   "source": [
    "### Other available utility functions\n",
    "There are other optional steps that you may try or find the need for -\n",
    "\n",
    "(Optional) Give a new string to suffix all components of the model. \n",
    "By default, the names are suffixed by the keyword given to make the Subsystem object.\n",
    "Usage -  `self.suffixAllElementIds(string)`\n",
    "Example - `DP1_doc = DP1.suffixAllElementIds('DPx')`\n",
    "\n",
    "\n",
    "(Optional) Rename IDs of any species/compartments or any other component of the \n",
    "subsystem as desired. This may be a helpful utility function to make sure \n",
    "that the shared resources (and other interacting elements) have same IDs or names (as desired)\n",
    "To rename ID of a component and to propagate the changes everywhere in the model, use the following method of the Subsystem class.\n",
    "Usage - `self.renameSId(old_id, new_id)` (where the ids are string type)\n",
    "Example - `DP1.renameSId('inp_DP1','inp_DP1_new')`\n",
    "\n",
    "(Optional) To rename the names of any species, use the following method of the Subsystem class\n",
    "Usage - `self.renameSName(old_name, new_name)`\n",
    "Example - `DP1.renameSName('inp', 'input')`\n",
    "renames all 'inp' named species to 'input'\n",
    "\n",
    "(Optional) To give a compartment to put the subsystem in, use the following method of the Subsystem class\n",
    "By default, the subsystem is kept in the \"cell\" compartment (the System object used)\n",
    "Usage - `self.setSubsystemCompartments(newCompartments)`\n",
    "Example -\n",
    "```\n",
    "newCompartment = ['cell_new']\n",
    "DP1.setSubsystemCompartments(newCompartment)\n",
    "```\n",
    "(Optional) Write the Subsystem model created to output an SBML file\n",
    "```\n",
    "DP1_doc = DP1.getSubsystemDoc()\n",
    "writeSBML(DP1_doc,'models/DP1.xml')\n",
    "```\n"
   ]
  },
  {
   "cell_type": "code",
   "execution_count": null,
   "metadata": {},
   "outputs": [],
   "source": []
  }
 ],
 "metadata": {
  "kernelspec": {
   "display_name": "Python 3",
   "language": "python",
   "name": "python3"
  },
  "language_info": {
   "codemirror_mode": {
    "name": "ipython",
    "version": 3
   },
   "file_extension": ".py",
   "mimetype": "text/x-python",
   "name": "python",
   "nbconvert_exporter": "python",
   "pygments_lexer": "ipython3",
   "version": "3.6.5"
  }
 },
 "nbformat": 4,
 "nbformat_minor": 2
}
