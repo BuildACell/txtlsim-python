{
 "cells": [
  {
   "cell_type": "markdown",
   "metadata": {},
   "source": [
    "Create a system. Example - A cell system which acts as a container for \n",
    "all the different subsystems. Here, cell is an object of the System class. \n",
    "\n",
    "In this example, we will consider three models written in SBML given to us. There are two double phosphorylation subsystems and an incoherent feedforward loop subsystem. We intend to have all of the three subsystems inside a synthetic cell. There are different kinds of interactions that occur which can be modeled using this toolbox. \n",
    "\n",
    "Shared cellular resources: A list of molecules present inside a cell which all subsystems share as common resources. \n",
    "Combine subsystems: If desired, all species with the same name that occur across different subsystems may be allowed to be shared among subsystems. \n",
    "Interactions between subsystem: Modeling of species interacting with each other can be done. For example, Species A activates Species B and so on. \n"
   ]
  },
  {
   "cell_type": "code",
   "execution_count": null,
   "metadata": {},
   "outputs": [],
   "source": [
    "cell = System('cell')\n",
    "cell.ListOfSharedResources = ['inp','Xp']\n",
    "DP1 = cell.createSubsystem('models/DP.xml','DP1')\n",
    "DP2 = cell.createSubsystem('models/DP.xml','DP2')\n",
    "IFFL = cell.createSubsystem('models/IFFL.xml','IFFL')"
   ]
  },
  {
   "cell_type": "markdown",
   "metadata": {},
   "source": [
    "Set the list of shared resources to the cell using its member function. Example 1-A\n",
    "Usage - system_obj.setSharedResources(), returns a new Subsystem\n",
    "object (inside the same system object) which has the resources sharing modeled."
   ]
  },
  {
   "cell_type": "code",
   "execution_count": null,
   "metadata": {},
   "outputs": [],
   "source": [
    "shared_subsystem = cell.setSharedResources()\n",
    "writeSBML(shared_subsystem.getSubsystemDoc(),'models/DP_IFFL_shared.xml')"
   ]
  },
  {
   "cell_type": "markdown",
   "metadata": {},
   "source": [
    "The combineSubsystems member function implements Example 1-B.\n",
    "Usage - subsystem_object.combineSubsystems(ListOfSubsystems, combineAllWithSameNames)\n",
    "The subsystem_object is a new subsystem object which calls combineSubsystems\n",
    "As a result, the subsystem_object contains the combined model.\n",
    "\n",
    "The second argument is Boolean which is True if all species with same \n",
    "names need to be merged and False otherwise. "
   ]
  },
  {
   "cell_type": "code",
   "execution_count": null,
   "metadata": {},
   "outputs": [],
   "source": [
    "combined_subsystem = cell.createNewSubsystem(3,1)\n",
    "combined_subsystem.combineSubsystems([DP1, DP2, IFFL], False)\n",
    "writeSBML(combined_subsystem.getSubsystemDoc(),'models/DP_IFFL_combined.xml')"
   ]
  },
  {
   "cell_type": "markdown",
   "metadata": {},
   "source": [
    "Now, for Example 1-C, the user needs to specify \n",
    "the map of the interaction modeling that is desired. This map uses species names.\n",
    "User specifies how the systems interact by defining the following map\n",
    "Usage - connection_logic is a dictionary specifying the map. \n",
    "The species in the key is replaced by the species given as the value "
   ]
  },
  {
   "cell_type": "code",
   "execution_count": null,
   "metadata": {},
   "outputs": [],
   "source": [
    "connection_logic = {}\n",
    "connection_logic['out'] = 'pA_IFFL'\n",
    "(Optional) The following species was used in IFFL model for when its isolated.\n",
    "# But, now DP output activates the protein expressions so the input to IFFL should be invalid. \n",
    "inputSpecies = 'inp_IFFL' #The species which is invalid in the connected model"
   ]
  },
  {
   "cell_type": "markdown",
   "metadata": {},
   "source": [
    " Call connectInteraction function for the final subsystem object\n",
    "to connect various subsystems.\n",
    "Usage - subsystem_object.self.connectSubsystems(ListOfSubsystems, combineAllWithSameNames, InteractionMap, InputSpecies)"
   ]
  },
  {
   "cell_type": "code",
   "execution_count": null,
   "metadata": {},
   "outputs": [],
   "source": [
    "\n",
    "connected_subsystem = cell.createNewSubsystem(3,1)\n",
    "connected_subsystem.connectSubsystems([DP1, DP2, IFFL], True, connection_logic, inputSpecies)\n",
    "\n",
    "\n",
    "# (Optional) Write the connected document to SBML file\n",
    "writeSBML(connected_subsystem.getSubsystemDoc(),'odels/DP_IFFL_connected.xml')"
   ]
  },
  {
   "cell_type": "code",
   "execution_count": null,
   "metadata": {},
   "outputs": [],
   "source": [
    "\n",
    "# Simulate using bioscrape\n",
    "timepoints = np.linspace(0,50,1000)\n",
    "# Usage - plotSbmlWithBioscrape(filename, initialTime, timepoints, \n",
    "# ListOfSpeciesToPlot, xLabel, yLabel, xAxisSize, yAxisSize)\n",
    "\n",
    "plotSbmlWithBioscrape('models/DP_IFFL_connected.xml',0,\n",
    "timepoints,['inp','pA_IFFL','pB_IFFL','out_IFFL'],'Time',\n",
    "'Input and Output Species',14,14)"
   ]
  },
  {
   "cell_type": "markdown",
   "metadata": {},
   "source": [
    "\n",
    "There are other optional steps -\n",
    "\n",
    "(Optional) Give a new string to suffix all components of the model. \n",
    "By default, the names are suffixed by the keyword given to make the Subsystem object.\n",
    "Usage -  DP1_doc = DP1.suffixAllElementIds('DPx')\n",
    "\n",
    "\n",
    "(Optional) Rename IDs of any species/compartments or any other component of the \n",
    "subsystem as desired. This may be a helpful utility function to make sure \n",
    "that the shared resources (and other interacting elements) have same IDs or names (as desired)\n",
    "To rename ID of a component and to propagate the changes everywhere in the model - \n",
    "Usage - subsystem_object.renameSId(old_id, new_id) (where the ids are string type)\n",
    "DP1.renameSId('inp_DP1','inp_DP1_new')\n",
    "\n",
    "(Optional) Rename the names of any species -\n",
    "Usage - subsystem_object.renameSName(old_name, new_name)\n",
    "DP1.renameSName('inp', 'input')\n",
    "renames 'inp' named species to 'input'\n",
    "\n",
    "(Optional) Give a compartment to put the subsystem in. \n",
    "By default, the subsystem is kept in the \"cell\" compartment (the System object used)\n",
    "Which compartment do you want to put the subsystem in? Usage --\n",
    "newCompartment = ['cell_new']\n",
    "DP1.setSubsystemCompartments(newCompartment)\n",
    "\n",
    "(Optional) Write the Subsystem model created to output an SBML file\n",
    "DP1_doc = DP1.getSubsystemDoc()\n",
    "writeSBML(DP1_doc,'models/DP1.xml')\n",
    "\n",
    "Using the steps shown above, we create two other subsystems - DP2 and IFFL"
   ]
  }
 ],
 "metadata": {
  "kernelspec": {
   "display_name": "Python 3",
   "language": "python",
   "name": "python3"
  },
  "language_info": {
   "codemirror_mode": {
    "name": "ipython",
    "version": 3
   },
   "file_extension": ".py",
   "mimetype": "text/x-python",
   "name": "python",
   "nbconvert_exporter": "python",
   "pygments_lexer": "ipython3",
   "version": "3.6.5"
  }
 },
 "nbformat": 4,
 "nbformat_minor": 2
}
